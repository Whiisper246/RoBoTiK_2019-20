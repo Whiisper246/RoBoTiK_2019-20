{
 "cells": [
  {
   "cell_type": "markdown",
   "metadata": {},
   "source": [
    "  # Robotik Assignment 04"
   ]
  },
  {
   "cell_type": "code",
   "execution_count": null,
   "metadata": {},
   "outputs": [],
   "source": [
    "import cv2\n",
    "import numpy as np\n",
    "import pandas as pd\n",
    "import matplotlib.pyplot as plt\n"
   ]
  },
  {
   "cell_type": "markdown",
   "metadata": {},
   "source": [
    "# 4-1"
   ]
  },
  {
   "cell_type": "markdown",
   "metadata": {},
   "source": [
    "Play the provided bagfile in a loop:"
   ]
  },
  {
   "cell_type": "code",
   "execution_count": null,
   "metadata": {},
   "outputs": [],
   "source": []
  },
  {
   "cell_type": "markdown",
   "metadata": {},
   "source": [
    "# 4-2"
   ]
  },
  {
   "cell_type": "markdown",
   "metadata": {},
   "source": [
    "Extract the intrinsic parameters "
   ]
  },
  {
   "cell_type": "code",
   "execution_count": null,
   "metadata": {},
   "outputs": [],
   "source": [
    "#This command saves and then renames the parameters appropriately\n",
    "\n",
    "DF = pd.read_csv(\"/sensor_data.csv\") #Replace this address\n",
    "DF.drop(columns=['%time', 'field.header.seq', 'field.header.stamp',\n",
    "                 'field.header.frame_id'],inplace=True)\n",
    "DF.rename(columns={\"field.K0\":\"fx\",\"field.K2\":\"cx\",\"field.K4\":\"fy\",\n",
    "                   \"field.K5\":\"cy\",\"field.D0\":\"k1\",\n",
    "                   \"field.D1\":\"k2\",\"field.D2\":\"t1\",\"field.D3\":\"t2\",\n",
    "                   \"field.D4\":\"k3\"}, inplace= True)\n",
    "parameter = DF[[\"fx\", \"fy\", \"cx\",\"cy\", \"k1\", \"k2\", \"t1\", \"t2\", \"k3\"]]"
   ]
  },
  {
   "cell_type": "markdown",
   "metadata": {},
   "source": [
    "Extracting the intrinsic parameters and distortion coefficients. "
   ]
  },
  {
   "cell_type": "code",
   "execution_count": null,
   "metadata": {
    "scrolled": true
   },
   "outputs": [],
   "source": [
    "parameter.iloc[0]  #extracting the required parameters."
   ]
  },
  {
   "cell_type": "markdown",
   "metadata": {},
   "source": [
    "#  4-3"
   ]
  },
  {
   "cell_type": "markdown",
   "metadata": {},
   "source": [
    "Use the threshold function from OpenCV to turn your gray image into binary image. \n",
    "Draw black rectangles over the remaining white pixels in the binary image \n",
    "and Publish your image. "
   ]
  },
  {
   "cell_type": "code",
   "execution_count": null,
   "metadata": {
    "scrolled": true
   },
   "outputs": [],
   "source": [
    "# import opencv   #Arman's Code\n",
    "\n",
    "from imutils import contours\n",
    "from skimage import measure\n",
    "import numpy as np\n",
    "import argparse\n",
    "import imutils\n",
    "import cv2\n",
    "import matplotlib.pyplot as plt\n",
    "\n",
    "# Read image\n",
    "src = cv2.imread(\"images/frame0007.jpg\", cv2.IMREAD_GRAYSCALE)\n",
    "\n",
    "# Set threshold and maxValue\n",
    "thresh = 230   #230 is nice threshold!\n",
    "maxValue = 255\n",
    " \n",
    "# Basic threshold example\n",
    "th, dst = cv2.threshold(src, thresh, maxValue, cv2.THRESH_BINARY);\n",
    "\n",
    "\n",
    "#Painting over the extra white spaces\n",
    "\n",
    "painted = cv2.rectangle(dst,(0,0),(800,100),(0,0,0), -1)\n",
    "painted = cv2.rectangle(dst,(250,250),(490,400),(0,0,0), -1) \n",
    "painted = cv2.rectangle(dst,(0,350),(800,800),(0,0,0), -1) \n",
    "\n",
    "plt.imshow(painted, cmap='gray')\n",
    "\n",
    "cv2.imwrite(\"images/threshold.jpg\", painted); \n",
    "\n",
    "\n",
    "\n",
    "\n",
    "from skimage import measure\n",
    "\n",
    "\n",
    "labels = measure.label(painted, neighbors = 8, background = 0)\n",
    "mask = np.zeros(painted.shape, dtype=\"uint8\")\n",
    "\n",
    "for label in np.unique(labels):\n",
    "    if label == 0:\n",
    "        continue\n",
    "        \n",
    "        \n",
    "# otherwise, construct the label mask and count the\n",
    "# number of pixels \n",
    "labelMask = np.zeros(painted.shape, dtype=\"uint8\")\n",
    "labelMask[labels == label] = 255\n",
    "numPixels = cv2.countNonZero(labelMask)\n",
    " \n",
    "# if the number of pixels in the component is sufficiently\n",
    "# large, then add it to our mask of \"large blobs\"\n",
    "if numPixels > 300:\n",
    "    mask = cv2.add(mask, labelMask)\n",
    "\n",
    "#Part2\n",
    "# find the contours in the mask, then sort them from left to\n",
    "# right\n",
    "cnts = cv2.findContours(mask.copy(), cv2.RETR_EXTERNAL,cv2.CHAIN_APPROX_SIMPLE)\n",
    "cnts = imutils.grab_contours(cnts)\n",
    "#cnts = contours.sort_contours(cnts)[0]\n",
    " \n",
    "# loop over the contours\n",
    "for (i, c) in enumerate(cnts):\n",
    "# draw the bright spot on the image\n",
    "    (x, y, w, h) = cv2.boundingRect(c)\n",
    "    ((cX, cY), radius) = cv2.minEnclosingCircle(c)\n",
    "    cv2.circle(image, (int(cX), int(cY)), int(radius),\n",
    "    (0, 0, 255), 3)\n",
    "    cv2.putText(image, \"#{}\".format(i + 1), (x, y - 15),\n",
    "    cv2.FONT_HERSHEY_SIMPLEX, 0.45, (0, 0, 255), 2)\n",
    " \n",
    "    #show the output image\n",
    "cv2.imshow(\"Image\", painted)\n",
    "cv2.waitKey(0)\n"
   ]
  },
  {
   "cell_type": "markdown",
   "metadata": {},
   "source": [
    "#  4-4"
   ]
  },
  {
   "cell_type": "markdown",
   "metadata": {},
   "source": [
    "Now, divide the thresholded image into 6 regions so that every region has one marker. For every region extract all the white pixels and calculate the average position to get the center of the marking."
   ]
  },
  {
   "cell_type": "markdown",
   "metadata": {},
   "source": [
    "# 4-5"
   ]
  },
  {
   "cell_type": "code",
   "execution_count": null,
   "metadata": {},
   "outputs": [],
   "source": []
  }
 ],
 "metadata": {
  "kernelspec": {
   "display_name": "Python 3",
   "language": "python",
   "name": "python3"
  },
  "language_info": {
   "codemirror_mode": {
    "name": "ipython",
    "version": 3
   },
   "file_extension": ".py",
   "mimetype": "text/x-python",
   "name": "python",
   "nbconvert_exporter": "python",
   "pygments_lexer": "ipython3",
   "version": "3.7.4"
  }
 },
 "nbformat": 4,
 "nbformat_minor": 2
}
